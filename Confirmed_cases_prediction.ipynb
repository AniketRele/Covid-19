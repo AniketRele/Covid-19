{
  "nbformat": 4,
  "nbformat_minor": 0,
  "metadata": {
    "colab": {
      "name": "Confirmed cases prediction.ipynb",
      "provenance": [],
      "collapsed_sections": []
    },
    "kernelspec": {
      "name": "python3",
      "display_name": "Python 3"
    }
  },
  "cells": [
    {
      "cell_type": "code",
      "metadata": {
        "id": "0521RLCjt4ov",
        "colab_type": "code",
        "colab": {}
      },
      "source": [
        "import pandas as pd\n",
        "import numpy as np\n",
        "import matplotlib.pylab as plt\n",
        "%matplotlib inline\n",
        "from matplotlib.pylab import rcParams\n",
        "rcParams['figure.figsize']=15,10"
      ],
      "execution_count": 0,
      "outputs": []
    },
    {
      "cell_type": "code",
      "metadata": {
        "id": "L5Q5MIUyy7lS",
        "colab_type": "code",
        "colab": {}
      },
      "source": [
        "#Reading the data\n",
        "data=pd.read_csv('/content/drive/My Drive/novel-corona-virus-2019-dataset/covid_19_data.csv')"
      ],
      "execution_count": 0,
      "outputs": []
    },
    {
      "cell_type": "code",
      "metadata": {
        "id": "C5PRDNvkPAe3",
        "colab_type": "code",
        "outputId": "0db105be-c2e7-4016-ad01-24764346ed03",
        "colab": {
          "base_uri": "https://localhost:8080/",
          "height": 33
        }
      },
      "source": [
        "data.shape"
      ],
      "execution_count": 3,
      "outputs": [
        {
          "output_type": "execute_result",
          "data": {
            "text/plain": [
              "(9735, 8)"
            ]
          },
          "metadata": {
            "tags": []
          },
          "execution_count": 3
        }
      ]
    },
    {
      "cell_type": "code",
      "metadata": {
        "id": "yUhouToWy7n_",
        "colab_type": "code",
        "outputId": "b00e0529-dbd4-4fea-eb2d-ce28c28cff85",
        "colab": {
          "base_uri": "https://localhost:8080/",
          "height": 191
        }
      },
      "source": [
        "data.head()"
      ],
      "execution_count": 4,
      "outputs": [
        {
          "output_type": "execute_result",
          "data": {
            "text/html": [
              "<div>\n",
              "<style scoped>\n",
              "    .dataframe tbody tr th:only-of-type {\n",
              "        vertical-align: middle;\n",
              "    }\n",
              "\n",
              "    .dataframe tbody tr th {\n",
              "        vertical-align: top;\n",
              "    }\n",
              "\n",
              "    .dataframe thead th {\n",
              "        text-align: right;\n",
              "    }\n",
              "</style>\n",
              "<table border=\"1\" class=\"dataframe\">\n",
              "  <thead>\n",
              "    <tr style=\"text-align: right;\">\n",
              "      <th></th>\n",
              "      <th>SNo</th>\n",
              "      <th>ObservationDate</th>\n",
              "      <th>Province/State</th>\n",
              "      <th>Country/Region</th>\n",
              "      <th>Last Update</th>\n",
              "      <th>Confirmed</th>\n",
              "      <th>Deaths</th>\n",
              "      <th>Recovered</th>\n",
              "    </tr>\n",
              "  </thead>\n",
              "  <tbody>\n",
              "    <tr>\n",
              "      <th>0</th>\n",
              "      <td>1</td>\n",
              "      <td>01/22/2020</td>\n",
              "      <td>Anhui</td>\n",
              "      <td>Mainland China</td>\n",
              "      <td>1/22/2020 17:00</td>\n",
              "      <td>1.0</td>\n",
              "      <td>0.0</td>\n",
              "      <td>0.0</td>\n",
              "    </tr>\n",
              "    <tr>\n",
              "      <th>1</th>\n",
              "      <td>2</td>\n",
              "      <td>01/22/2020</td>\n",
              "      <td>Beijing</td>\n",
              "      <td>Mainland China</td>\n",
              "      <td>1/22/2020 17:00</td>\n",
              "      <td>14.0</td>\n",
              "      <td>0.0</td>\n",
              "      <td>0.0</td>\n",
              "    </tr>\n",
              "    <tr>\n",
              "      <th>2</th>\n",
              "      <td>3</td>\n",
              "      <td>01/22/2020</td>\n",
              "      <td>Chongqing</td>\n",
              "      <td>Mainland China</td>\n",
              "      <td>1/22/2020 17:00</td>\n",
              "      <td>6.0</td>\n",
              "      <td>0.0</td>\n",
              "      <td>0.0</td>\n",
              "    </tr>\n",
              "    <tr>\n",
              "      <th>3</th>\n",
              "      <td>4</td>\n",
              "      <td>01/22/2020</td>\n",
              "      <td>Fujian</td>\n",
              "      <td>Mainland China</td>\n",
              "      <td>1/22/2020 17:00</td>\n",
              "      <td>1.0</td>\n",
              "      <td>0.0</td>\n",
              "      <td>0.0</td>\n",
              "    </tr>\n",
              "    <tr>\n",
              "      <th>4</th>\n",
              "      <td>5</td>\n",
              "      <td>01/22/2020</td>\n",
              "      <td>Gansu</td>\n",
              "      <td>Mainland China</td>\n",
              "      <td>1/22/2020 17:00</td>\n",
              "      <td>0.0</td>\n",
              "      <td>0.0</td>\n",
              "      <td>0.0</td>\n",
              "    </tr>\n",
              "  </tbody>\n",
              "</table>\n",
              "</div>"
            ],
            "text/plain": [
              "   SNo ObservationDate Province/State  ... Confirmed Deaths  Recovered\n",
              "0    1      01/22/2020          Anhui  ...       1.0    0.0        0.0\n",
              "1    2      01/22/2020        Beijing  ...      14.0    0.0        0.0\n",
              "2    3      01/22/2020      Chongqing  ...       6.0    0.0        0.0\n",
              "3    4      01/22/2020         Fujian  ...       1.0    0.0        0.0\n",
              "4    5      01/22/2020          Gansu  ...       0.0    0.0        0.0\n",
              "\n",
              "[5 rows x 8 columns]"
            ]
          },
          "metadata": {
            "tags": []
          },
          "execution_count": 4
        }
      ]
    },
    {
      "cell_type": "code",
      "metadata": {
        "id": "4ZzDPPVRy7qz",
        "colab_type": "code",
        "colab": {}
      },
      "source": [
        "#Dropping the columns Sno and Last Update\n",
        "data.drop(['SNo','Last Update'],axis=1,inplace=True)"
      ],
      "execution_count": 0,
      "outputs": []
    },
    {
      "cell_type": "code",
      "metadata": {
        "id": "z69TrRVF22P4",
        "colab_type": "code",
        "colab": {}
      },
      "source": [
        "#Getting additonal Active cases for better implementation and information\n",
        "data['Active']=data['Confirmed']-data['Deaths']-data['Recovered']"
      ],
      "execution_count": 0,
      "outputs": []
    },
    {
      "cell_type": "code",
      "metadata": {
        "id": "Nl29aduiy7tX",
        "colab_type": "code",
        "outputId": "916ddb5b-95d6-4a6f-f6b1-f5d2883fa9fd",
        "colab": {
          "base_uri": "https://localhost:8080/",
          "height": 191
        }
      },
      "source": [
        "data.head()"
      ],
      "execution_count": 7,
      "outputs": [
        {
          "output_type": "execute_result",
          "data": {
            "text/html": [
              "<div>\n",
              "<style scoped>\n",
              "    .dataframe tbody tr th:only-of-type {\n",
              "        vertical-align: middle;\n",
              "    }\n",
              "\n",
              "    .dataframe tbody tr th {\n",
              "        vertical-align: top;\n",
              "    }\n",
              "\n",
              "    .dataframe thead th {\n",
              "        text-align: right;\n",
              "    }\n",
              "</style>\n",
              "<table border=\"1\" class=\"dataframe\">\n",
              "  <thead>\n",
              "    <tr style=\"text-align: right;\">\n",
              "      <th></th>\n",
              "      <th>ObservationDate</th>\n",
              "      <th>Province/State</th>\n",
              "      <th>Country/Region</th>\n",
              "      <th>Confirmed</th>\n",
              "      <th>Deaths</th>\n",
              "      <th>Recovered</th>\n",
              "      <th>Active</th>\n",
              "    </tr>\n",
              "  </thead>\n",
              "  <tbody>\n",
              "    <tr>\n",
              "      <th>0</th>\n",
              "      <td>01/22/2020</td>\n",
              "      <td>Anhui</td>\n",
              "      <td>Mainland China</td>\n",
              "      <td>1.0</td>\n",
              "      <td>0.0</td>\n",
              "      <td>0.0</td>\n",
              "      <td>1.0</td>\n",
              "    </tr>\n",
              "    <tr>\n",
              "      <th>1</th>\n",
              "      <td>01/22/2020</td>\n",
              "      <td>Beijing</td>\n",
              "      <td>Mainland China</td>\n",
              "      <td>14.0</td>\n",
              "      <td>0.0</td>\n",
              "      <td>0.0</td>\n",
              "      <td>14.0</td>\n",
              "    </tr>\n",
              "    <tr>\n",
              "      <th>2</th>\n",
              "      <td>01/22/2020</td>\n",
              "      <td>Chongqing</td>\n",
              "      <td>Mainland China</td>\n",
              "      <td>6.0</td>\n",
              "      <td>0.0</td>\n",
              "      <td>0.0</td>\n",
              "      <td>6.0</td>\n",
              "    </tr>\n",
              "    <tr>\n",
              "      <th>3</th>\n",
              "      <td>01/22/2020</td>\n",
              "      <td>Fujian</td>\n",
              "      <td>Mainland China</td>\n",
              "      <td>1.0</td>\n",
              "      <td>0.0</td>\n",
              "      <td>0.0</td>\n",
              "      <td>1.0</td>\n",
              "    </tr>\n",
              "    <tr>\n",
              "      <th>4</th>\n",
              "      <td>01/22/2020</td>\n",
              "      <td>Gansu</td>\n",
              "      <td>Mainland China</td>\n",
              "      <td>0.0</td>\n",
              "      <td>0.0</td>\n",
              "      <td>0.0</td>\n",
              "      <td>0.0</td>\n",
              "    </tr>\n",
              "  </tbody>\n",
              "</table>\n",
              "</div>"
            ],
            "text/plain": [
              "  ObservationDate Province/State  Country/Region  ...  Deaths  Recovered  Active\n",
              "0      01/22/2020          Anhui  Mainland China  ...     0.0        0.0     1.0\n",
              "1      01/22/2020        Beijing  Mainland China  ...     0.0        0.0    14.0\n",
              "2      01/22/2020      Chongqing  Mainland China  ...     0.0        0.0     6.0\n",
              "3      01/22/2020         Fujian  Mainland China  ...     0.0        0.0     1.0\n",
              "4      01/22/2020          Gansu  Mainland China  ...     0.0        0.0     0.0\n",
              "\n",
              "[5 rows x 7 columns]"
            ]
          },
          "metadata": {
            "tags": []
          },
          "execution_count": 7
        }
      ]
    },
    {
      "cell_type": "code",
      "metadata": {
        "id": "om7ewsw930G9",
        "colab_type": "code",
        "outputId": "cd4eebdb-4f8c-48f9-bbac-5fe11c8709b0",
        "colab": {
          "base_uri": "https://localhost:8080/",
          "height": 147
        }
      },
      "source": [
        "#Checking for NA values\n",
        "data.isna().sum()"
      ],
      "execution_count": 8,
      "outputs": [
        {
          "output_type": "execute_result",
          "data": {
            "text/plain": [
              "ObservationDate       0\n",
              "Province/State     4433\n",
              "Country/Region        0\n",
              "Confirmed             0\n",
              "Deaths                0\n",
              "Recovered             0\n",
              "Active                0\n",
              "dtype: int64"
            ]
          },
          "metadata": {
            "tags": []
          },
          "execution_count": 8
        }
      ]
    },
    {
      "cell_type": "code",
      "metadata": {
        "id": "LLCe7hE74L0C",
        "colab_type": "code",
        "outputId": "65dfa7ef-ec6f-4348-97c9-e48d7ee4c6fd",
        "colab": {
          "base_uri": "https://localhost:8080/",
          "height": 147
        }
      },
      "source": [
        "#Filling NA Values\n",
        "data['Province/State']=data['Province/State'].fillna('Not Specified')\n",
        "data.isna().sum()"
      ],
      "execution_count": 9,
      "outputs": [
        {
          "output_type": "execute_result",
          "data": {
            "text/plain": [
              "ObservationDate    0\n",
              "Province/State     0\n",
              "Country/Region     0\n",
              "Confirmed          0\n",
              "Deaths             0\n",
              "Recovered          0\n",
              "Active             0\n",
              "dtype: int64"
            ]
          },
          "metadata": {
            "tags": []
          },
          "execution_count": 9
        }
      ]
    },
    {
      "cell_type": "code",
      "metadata": {
        "id": "HMeR1XGw4MBk",
        "colab_type": "code",
        "outputId": "9c54a038-4dc7-473c-90c5-2331a198a959",
        "colab": {
          "base_uri": "https://localhost:8080/",
          "height": 212
        }
      },
      "source": [
        "data['Province/State'].value_counts()"
      ],
      "execution_count": 10,
      "outputs": [
        {
          "output_type": "execute_result",
          "data": {
            "text/plain": [
              "Not Specified                   4433\n",
              "Diamond Princess cruise ship      82\n",
              "Hebei                             69\n",
              "Gansu                             69\n",
              "Xinjiang                          67\n",
              "                                ... \n",
              "Anguilla                           1\n",
              "Harrison County, KY                1\n",
              "Johnson County, IA                 1\n",
              "Lackland, TX                       1\n",
              "Spartanburg County, SC             1\n",
              "Name: Province/State, Length: 294, dtype: int64"
            ]
          },
          "metadata": {
            "tags": []
          },
          "execution_count": 10
        }
      ]
    },
    {
      "cell_type": "code",
      "metadata": {
        "id": "WmmwNqrR5EgN",
        "colab_type": "code",
        "outputId": "1b86a4f0-d5c4-4e60-caa5-831a702bfd61",
        "colab": {
          "base_uri": "https://localhost:8080/",
          "height": 147
        }
      },
      "source": [
        "data.dtypes"
      ],
      "execution_count": 11,
      "outputs": [
        {
          "output_type": "execute_result",
          "data": {
            "text/plain": [
              "ObservationDate     object\n",
              "Province/State      object\n",
              "Country/Region      object\n",
              "Confirmed          float64\n",
              "Deaths             float64\n",
              "Recovered          float64\n",
              "Active             float64\n",
              "dtype: object"
            ]
          },
          "metadata": {
            "tags": []
          },
          "execution_count": 11
        }
      ]
    },
    {
      "cell_type": "code",
      "metadata": {
        "id": "TxJZGJKUcZ8j",
        "colab_type": "code",
        "colab": {}
      },
      "source": [
        "data['Confirmed']=data['Confirmed'].astype(int)\n",
        "data['Recovered']=data['Recovered'].astype(int)\n",
        "data['Deaths']=data['Deaths'].astype(int)\n",
        "data['Active']=data['Active'].astype(int)"
      ],
      "execution_count": 0,
      "outputs": []
    },
    {
      "cell_type": "code",
      "metadata": {
        "id": "G36_2ldOcbH5",
        "colab_type": "code",
        "outputId": "e953cbb9-99b8-47bd-b503-c5b5f8a20296",
        "colab": {
          "base_uri": "https://localhost:8080/",
          "height": 147
        }
      },
      "source": [
        "data.dtypes"
      ],
      "execution_count": 13,
      "outputs": [
        {
          "output_type": "execute_result",
          "data": {
            "text/plain": [
              "ObservationDate    object\n",
              "Province/State     object\n",
              "Country/Region     object\n",
              "Confirmed           int64\n",
              "Deaths              int64\n",
              "Recovered           int64\n",
              "Active              int64\n",
              "dtype: object"
            ]
          },
          "metadata": {
            "tags": []
          },
          "execution_count": 13
        }
      ]
    },
    {
      "cell_type": "code",
      "metadata": {
        "id": "0hHZRPc3ZVD_",
        "colab_type": "code",
        "outputId": "cb7ebbd5-d751-4b59-d91f-b83988ac2fb6",
        "colab": {
          "base_uri": "https://localhost:8080/",
          "height": 33
        }
      },
      "source": [
        "china_cases=data[data['ObservationDate']==max(data['ObservationDate'])].reset_index(drop=True)\n",
        "china_cases=china_cases.groupby('Country/Region')['Confirmed'].sum()['Mainland China']\n",
        "china_cases"
      ],
      "execution_count": 14,
      "outputs": [
        {
          "output_type": "execute_result",
          "data": {
            "text/plain": [
              "81401"
            ]
          },
          "metadata": {
            "tags": []
          },
          "execution_count": 14
        }
      ]
    },
    {
      "cell_type": "code",
      "metadata": {
        "id": "7oXr9XeEb_W3",
        "colab_type": "code",
        "outputId": "8f9afebe-4562-4e6b-8d07-65f7f88c966a",
        "colab": {
          "base_uri": "https://localhost:8080/",
          "height": 147
        }
      },
      "source": [
        "data.dtypes"
      ],
      "execution_count": 15,
      "outputs": [
        {
          "output_type": "execute_result",
          "data": {
            "text/plain": [
              "ObservationDate    object\n",
              "Province/State     object\n",
              "Country/Region     object\n",
              "Confirmed           int64\n",
              "Deaths              int64\n",
              "Recovered           int64\n",
              "Active              int64\n",
              "dtype: object"
            ]
          },
          "metadata": {
            "tags": []
          },
          "execution_count": 15
        }
      ]
    },
    {
      "cell_type": "code",
      "metadata": {
        "id": "QNt8yTFTtfrq",
        "colab_type": "code",
        "outputId": "908ffbc8-eebf-4626-9427-3d52559d4e59",
        "colab": {
          "base_uri": "https://localhost:8080/",
          "height": 391
        }
      },
      "source": [
        "#As the cases in China will not play a significant role in prediciting, we drop those rows.\n",
        "#values with _nc are the values with notchina\n",
        "data_nc=data[data['Country/Region']!='Mainland China']\n",
        "data_nc"
      ],
      "execution_count": 16,
      "outputs": [
        {
          "output_type": "execute_result",
          "data": {
            "text/html": [
              "<div>\n",
              "<style scoped>\n",
              "    .dataframe tbody tr th:only-of-type {\n",
              "        vertical-align: middle;\n",
              "    }\n",
              "\n",
              "    .dataframe tbody tr th {\n",
              "        vertical-align: top;\n",
              "    }\n",
              "\n",
              "    .dataframe thead th {\n",
              "        text-align: right;\n",
              "    }\n",
              "</style>\n",
              "<table border=\"1\" class=\"dataframe\">\n",
              "  <thead>\n",
              "    <tr style=\"text-align: right;\">\n",
              "      <th></th>\n",
              "      <th>ObservationDate</th>\n",
              "      <th>Province/State</th>\n",
              "      <th>Country/Region</th>\n",
              "      <th>Confirmed</th>\n",
              "      <th>Deaths</th>\n",
              "      <th>Recovered</th>\n",
              "      <th>Active</th>\n",
              "    </tr>\n",
              "  </thead>\n",
              "  <tbody>\n",
              "    <tr>\n",
              "      <th>12</th>\n",
              "      <td>01/22/2020</td>\n",
              "      <td>Hong Kong</td>\n",
              "      <td>Hong Kong</td>\n",
              "      <td>0</td>\n",
              "      <td>0</td>\n",
              "      <td>0</td>\n",
              "      <td>0</td>\n",
              "    </tr>\n",
              "    <tr>\n",
              "      <th>20</th>\n",
              "      <td>01/22/2020</td>\n",
              "      <td>Macau</td>\n",
              "      <td>Macau</td>\n",
              "      <td>1</td>\n",
              "      <td>0</td>\n",
              "      <td>0</td>\n",
              "      <td>1</td>\n",
              "    </tr>\n",
              "    <tr>\n",
              "      <th>28</th>\n",
              "      <td>01/22/2020</td>\n",
              "      <td>Taiwan</td>\n",
              "      <td>Taiwan</td>\n",
              "      <td>1</td>\n",
              "      <td>0</td>\n",
              "      <td>0</td>\n",
              "      <td>1</td>\n",
              "    </tr>\n",
              "    <tr>\n",
              "      <th>31</th>\n",
              "      <td>01/22/2020</td>\n",
              "      <td>Washington</td>\n",
              "      <td>US</td>\n",
              "      <td>1</td>\n",
              "      <td>0</td>\n",
              "      <td>0</td>\n",
              "      <td>1</td>\n",
              "    </tr>\n",
              "    <tr>\n",
              "      <th>35</th>\n",
              "      <td>01/22/2020</td>\n",
              "      <td>Not Specified</td>\n",
              "      <td>Japan</td>\n",
              "      <td>2</td>\n",
              "      <td>0</td>\n",
              "      <td>0</td>\n",
              "      <td>2</td>\n",
              "    </tr>\n",
              "    <tr>\n",
              "      <th>...</th>\n",
              "      <td>...</td>\n",
              "      <td>...</td>\n",
              "      <td>...</td>\n",
              "      <td>...</td>\n",
              "      <td>...</td>\n",
              "      <td>...</td>\n",
              "      <td>...</td>\n",
              "    </tr>\n",
              "    <tr>\n",
              "      <th>9727</th>\n",
              "      <td>03/28/2020</td>\n",
              "      <td>West Virginia</td>\n",
              "      <td>US</td>\n",
              "      <td>96</td>\n",
              "      <td>0</td>\n",
              "      <td>0</td>\n",
              "      <td>96</td>\n",
              "    </tr>\n",
              "    <tr>\n",
              "      <th>9728</th>\n",
              "      <td>03/28/2020</td>\n",
              "      <td>Western Australia</td>\n",
              "      <td>Australia</td>\n",
              "      <td>278</td>\n",
              "      <td>2</td>\n",
              "      <td>28</td>\n",
              "      <td>248</td>\n",
              "    </tr>\n",
              "    <tr>\n",
              "      <th>9729</th>\n",
              "      <td>03/28/2020</td>\n",
              "      <td>Wisconsin</td>\n",
              "      <td>US</td>\n",
              "      <td>1055</td>\n",
              "      <td>17</td>\n",
              "      <td>0</td>\n",
              "      <td>1038</td>\n",
              "    </tr>\n",
              "    <tr>\n",
              "      <th>9730</th>\n",
              "      <td>03/28/2020</td>\n",
              "      <td>Wyoming</td>\n",
              "      <td>US</td>\n",
              "      <td>82</td>\n",
              "      <td>0</td>\n",
              "      <td>0</td>\n",
              "      <td>82</td>\n",
              "    </tr>\n",
              "    <tr>\n",
              "      <th>9732</th>\n",
              "      <td>03/28/2020</td>\n",
              "      <td>Yukon</td>\n",
              "      <td>Canada</td>\n",
              "      <td>4</td>\n",
              "      <td>0</td>\n",
              "      <td>0</td>\n",
              "      <td>4</td>\n",
              "    </tr>\n",
              "  </tbody>\n",
              "</table>\n",
              "<p>7660 rows × 7 columns</p>\n",
              "</div>"
            ],
            "text/plain": [
              "     ObservationDate     Province/State  ... Recovered  Active\n",
              "12        01/22/2020          Hong Kong  ...         0       0\n",
              "20        01/22/2020              Macau  ...         0       1\n",
              "28        01/22/2020             Taiwan  ...         0       1\n",
              "31        01/22/2020         Washington  ...         0       1\n",
              "35        01/22/2020      Not Specified  ...         0       2\n",
              "...              ...                ...  ...       ...     ...\n",
              "9727      03/28/2020      West Virginia  ...         0      96\n",
              "9728      03/28/2020  Western Australia  ...        28     248\n",
              "9729      03/28/2020          Wisconsin  ...         0    1038\n",
              "9730      03/28/2020            Wyoming  ...         0      82\n",
              "9732      03/28/2020              Yukon  ...         0       4\n",
              "\n",
              "[7660 rows x 7 columns]"
            ]
          },
          "metadata": {
            "tags": []
          },
          "execution_count": 16
        }
      ]
    },
    {
      "cell_type": "code",
      "metadata": {
        "id": "sxlYc2Piy7xw",
        "colab_type": "code",
        "colab": {}
      },
      "source": [
        "data_per_day=data.groupby('ObservationDate')[['Confirmed','Deaths','Recovered','Active']].sum()"
      ],
      "execution_count": 0,
      "outputs": []
    },
    {
      "cell_type": "code",
      "metadata": {
        "id": "56fKktxxtUvK",
        "colab_type": "code",
        "colab": {}
      },
      "source": [
        "data_per_day_nc=data_nc.groupby('ObservationDate')[['Confirmed','Deaths','Recovered','Active']].sum()"
      ],
      "execution_count": 0,
      "outputs": []
    },
    {
      "cell_type": "code",
      "metadata": {
        "id": "kShtvjYyy70B",
        "colab_type": "code",
        "outputId": "fc08727f-25e2-4564-b288-99ae7b1c1919",
        "colab": {
          "base_uri": "https://localhost:8080/",
          "height": 220
        }
      },
      "source": [
        "data_per_day_nc.tail()"
      ],
      "execution_count": 19,
      "outputs": [
        {
          "output_type": "execute_result",
          "data": {
            "text/html": [
              "<div>\n",
              "<style scoped>\n",
              "    .dataframe tbody tr th:only-of-type {\n",
              "        vertical-align: middle;\n",
              "    }\n",
              "\n",
              "    .dataframe tbody tr th {\n",
              "        vertical-align: top;\n",
              "    }\n",
              "\n",
              "    .dataframe thead th {\n",
              "        text-align: right;\n",
              "    }\n",
              "</style>\n",
              "<table border=\"1\" class=\"dataframe\">\n",
              "  <thead>\n",
              "    <tr style=\"text-align: right;\">\n",
              "      <th></th>\n",
              "      <th>Confirmed</th>\n",
              "      <th>Deaths</th>\n",
              "      <th>Recovered</th>\n",
              "      <th>Active</th>\n",
              "    </tr>\n",
              "    <tr>\n",
              "      <th>ObservationDate</th>\n",
              "      <th></th>\n",
              "      <th></th>\n",
              "      <th></th>\n",
              "      <th></th>\n",
              "    </tr>\n",
              "  </thead>\n",
              "  <tbody>\n",
              "    <tr>\n",
              "      <th>03/24/2020</th>\n",
              "      <td>336786</td>\n",
              "      <td>15338</td>\n",
              "      <td>34536</td>\n",
              "      <td>286912</td>\n",
              "    </tr>\n",
              "    <tr>\n",
              "      <th>03/25/2020</th>\n",
              "      <td>386373</td>\n",
              "      <td>17900</td>\n",
              "      <td>40109</td>\n",
              "      <td>328364</td>\n",
              "    </tr>\n",
              "    <tr>\n",
              "      <th>03/26/2020</th>\n",
              "      <td>448293</td>\n",
              "      <td>20683</td>\n",
              "      <td>48089</td>\n",
              "      <td>379521</td>\n",
              "    </tr>\n",
              "    <tr>\n",
              "      <th>03/27/2020</th>\n",
              "      <td>511946</td>\n",
              "      <td>23906</td>\n",
              "      <td>56315</td>\n",
              "      <td>431725</td>\n",
              "    </tr>\n",
              "    <tr>\n",
              "      <th>03/28/2020</th>\n",
              "      <td>579305</td>\n",
              "      <td>27357</td>\n",
              "      <td>64437</td>\n",
              "      <td>487511</td>\n",
              "    </tr>\n",
              "  </tbody>\n",
              "</table>\n",
              "</div>"
            ],
            "text/plain": [
              "                 Confirmed  Deaths  Recovered  Active\n",
              "ObservationDate                                      \n",
              "03/24/2020          336786   15338      34536  286912\n",
              "03/25/2020          386373   17900      40109  328364\n",
              "03/26/2020          448293   20683      48089  379521\n",
              "03/27/2020          511946   23906      56315  431725\n",
              "03/28/2020          579305   27357      64437  487511"
            ]
          },
          "metadata": {
            "tags": []
          },
          "execution_count": 19
        }
      ]
    },
    {
      "cell_type": "code",
      "metadata": {
        "id": "FxP1YUuXCexs",
        "colab_type": "code",
        "outputId": "87aeb63b-ba27-4627-cf0d-9abc68a47f3e",
        "colab": {
          "base_uri": "https://localhost:8080/",
          "height": 277
        }
      },
      "source": [
        "data_per_day_nc.describe()"
      ],
      "execution_count": 20,
      "outputs": [
        {
          "output_type": "execute_result",
          "data": {
            "text/html": [
              "<div>\n",
              "<style scoped>\n",
              "    .dataframe tbody tr th:only-of-type {\n",
              "        vertical-align: middle;\n",
              "    }\n",
              "\n",
              "    .dataframe tbody tr th {\n",
              "        vertical-align: top;\n",
              "    }\n",
              "\n",
              "    .dataframe thead th {\n",
              "        text-align: right;\n",
              "    }\n",
              "</style>\n",
              "<table border=\"1\" class=\"dataframe\">\n",
              "  <thead>\n",
              "    <tr style=\"text-align: right;\">\n",
              "      <th></th>\n",
              "      <th>Confirmed</th>\n",
              "      <th>Deaths</th>\n",
              "      <th>Recovered</th>\n",
              "      <th>Active</th>\n",
              "    </tr>\n",
              "  </thead>\n",
              "  <tbody>\n",
              "    <tr>\n",
              "      <th>count</th>\n",
              "      <td>67.000000</td>\n",
              "      <td>67.000000</td>\n",
              "      <td>67.000000</td>\n",
              "      <td>67.000000</td>\n",
              "    </tr>\n",
              "    <tr>\n",
              "      <th>mean</th>\n",
              "      <td>64377.671642</td>\n",
              "      <td>2755.402985</td>\n",
              "      <td>6598.328358</td>\n",
              "      <td>55023.940299</td>\n",
              "    </tr>\n",
              "    <tr>\n",
              "      <th>std</th>\n",
              "      <td>130201.062774</td>\n",
              "      <td>6029.466136</td>\n",
              "      <td>13788.374365</td>\n",
              "      <td>110435.415260</td>\n",
              "    </tr>\n",
              "    <tr>\n",
              "      <th>min</th>\n",
              "      <td>8.000000</td>\n",
              "      <td>0.000000</td>\n",
              "      <td>0.000000</td>\n",
              "      <td>8.000000</td>\n",
              "    </tr>\n",
              "    <tr>\n",
              "      <th>25%</th>\n",
              "      <td>330.000000</td>\n",
              "      <td>2.000000</td>\n",
              "      <td>17.000000</td>\n",
              "      <td>311.000000</td>\n",
              "    </tr>\n",
              "    <tr>\n",
              "      <th>50%</th>\n",
              "      <td>2418.000000</td>\n",
              "      <td>36.000000</td>\n",
              "      <td>237.000000</td>\n",
              "      <td>2145.000000</td>\n",
              "    </tr>\n",
              "    <tr>\n",
              "      <th>75%</th>\n",
              "      <td>46315.000000</td>\n",
              "      <td>1504.000000</td>\n",
              "      <td>5467.000000</td>\n",
              "      <td>39344.000000</td>\n",
              "    </tr>\n",
              "    <tr>\n",
              "      <th>max</th>\n",
              "      <td>579305.000000</td>\n",
              "      <td>27357.000000</td>\n",
              "      <td>64437.000000</td>\n",
              "      <td>487511.000000</td>\n",
              "    </tr>\n",
              "  </tbody>\n",
              "</table>\n",
              "</div>"
            ],
            "text/plain": [
              "           Confirmed        Deaths     Recovered         Active\n",
              "count      67.000000     67.000000     67.000000      67.000000\n",
              "mean    64377.671642   2755.402985   6598.328358   55023.940299\n",
              "std    130201.062774   6029.466136  13788.374365  110435.415260\n",
              "min         8.000000      0.000000      0.000000       8.000000\n",
              "25%       330.000000      2.000000     17.000000     311.000000\n",
              "50%      2418.000000     36.000000    237.000000    2145.000000\n",
              "75%     46315.000000   1504.000000   5467.000000   39344.000000\n",
              "max    579305.000000  27357.000000  64437.000000  487511.000000"
            ]
          },
          "metadata": {
            "tags": []
          },
          "execution_count": 20
        }
      ]
    },
    {
      "cell_type": "code",
      "metadata": {
        "id": "NccHyKW_y72I",
        "colab_type": "code",
        "outputId": "783d6592-aaa7-4b5e-83e1-7542e0723ab4",
        "colab": {
          "base_uri": "https://localhost:8080/",
          "height": 33
        }
      },
      "source": [
        "data_per_day_nc.shape"
      ],
      "execution_count": 21,
      "outputs": [
        {
          "output_type": "execute_result",
          "data": {
            "text/plain": [
              "(67, 4)"
            ]
          },
          "metadata": {
            "tags": []
          },
          "execution_count": 21
        }
      ]
    },
    {
      "cell_type": "code",
      "metadata": {
        "id": "9TJseQhYy74R",
        "colab_type": "code",
        "outputId": "2201580e-f3d4-494f-b52c-211a39993ee2",
        "colab": {
          "base_uri": "https://localhost:8080/",
          "height": 543
        }
      },
      "source": [
        "data_per_day.plot(kind='line',figsize=(20,8))\n",
        "plt.ylabel('Number of Cases',size=20)\n",
        "plt.xlabel('Dates',size=20)\n",
        "plt.title('Number of cases including China(Initially)',size=20)\n",
        "plt.legend(prop={'size':'15'})"
      ],
      "execution_count": 60,
      "outputs": [
        {
          "output_type": "execute_result",
          "data": {
            "text/plain": [
              "<matplotlib.legend.Legend at 0x7f00f9fb0a90>"
            ]
          },
          "metadata": {
            "tags": []
          },
          "execution_count": 60
        },
        {
          "output_type": "display_data",
          "data": {
            "image/png": "[encoded data removed]",
            "text/plain": [
              "<Figure size 1440x576 with 1 Axes>"
            ]
          },
          "metadata": {
            "tags": []
          }
        }
      ]
    },
    {
      "cell_type": "code",
      "metadata": {
        "id": "gdcZqdpxtQJa",
        "colab_type": "code",
        "outputId": "d187b36d-d552-49ea-ebff-9a97c36c9bc2",
        "colab": {
          "base_uri": "https://localhost:8080/",
          "height": 543
        }
      },
      "source": [
        "#Data for Countries except China\n",
        "data_per_day_nc.plot(kind='line',figsize=(20,8))\n",
        "plt.ylabel('Number of Cases',size=20)\n",
        "plt.xlabel('Dates',size=20)\n",
        "plt.title('Number of cases excluding China(Initially)',size=20)\n",
        "plt.legend(prop={'size':'15'})"
      ],
      "execution_count": 64,
      "outputs": [
        {
          "output_type": "execute_result",
          "data": {
            "text/plain": [
              "<matplotlib.legend.Legend at 0x7f00f9d0b3c8>"
            ]
          },
          "metadata": {
            "tags": []
          },
          "execution_count": 64
        },
        {
          "output_type": "display_data",
          "data": {
            "image/png": "[encoded data removed]",
            "text/plain": [
              "<Figure size 1440x576 with 1 Axes>"
            ]
          },
          "metadata": {
            "tags": []
          }
        }
      ]
    },
    {
      "cell_type": "code",
      "metadata": {
        "id": "dfks10wl7G0T",
        "colab_type": "code",
        "colab": {}
      },
      "source": [
        "from fbprophet import Prophet\n",
        "\n",
        "p=Prophet()"
      ],
      "execution_count": 0,
      "outputs": []
    },
    {
      "cell_type": "code",
      "metadata": {
        "id": "FTrdxLtK7G3K",
        "colab_type": "code",
        "outputId": "e76b66ea-f63b-486c-c208-3f0a974ced8f",
        "colab": {
          "base_uri": "https://localhost:8080/",
          "height": 33
        }
      },
      "source": [
        "p.add_seasonality(name='monthly',period=30.5,fourier_order=5)"
      ],
      "execution_count": 25,
      "outputs": [
        {
          "output_type": "execute_result",
          "data": {
            "text/plain": [
              "<fbprophet.forecaster.Prophet at 0x7f010d97ebe0>"
            ]
          },
          "metadata": {
            "tags": []
          },
          "execution_count": 25
        }
      ]
    },
    {
      "cell_type": "code",
      "metadata": {
        "id": "BPK9Cf8E7G6A",
        "colab_type": "code",
        "outputId": "984de8c2-a613-4d12-d0b8-34fb59889e5b",
        "colab": {
          "base_uri": "https://localhost:8080/",
          "height": 207
        }
      },
      "source": [
        "print(data_per_day.shape)\n",
        "\n",
        "cases=data_per_day.reset_index()\n",
        "cases.tail()"
      ],
      "execution_count": 26,
      "outputs": [
        {
          "output_type": "stream",
          "text": [
            "(67, 4)\n"
          ],
          "name": "stdout"
        },
        {
          "output_type": "execute_result",
          "data": {
            "text/html": [
              "<div>\n",
              "<style scoped>\n",
              "    .dataframe tbody tr th:only-of-type {\n",
              "        vertical-align: middle;\n",
              "    }\n",
              "\n",
              "    .dataframe tbody tr th {\n",
              "        vertical-align: top;\n",
              "    }\n",
              "\n",
              "    .dataframe thead th {\n",
              "        text-align: right;\n",
              "    }\n",
              "</style>\n",
              "<table border=\"1\" class=\"dataframe\">\n",
              "  <thead>\n",
              "    <tr style=\"text-align: right;\">\n",
              "      <th></th>\n",
              "      <th>ObservationDate</th>\n",
              "      <th>Confirmed</th>\n",
              "      <th>Deaths</th>\n",
              "      <th>Recovered</th>\n",
              "      <th>Active</th>\n",
              "    </tr>\n",
              "  </thead>\n",
              "  <tbody>\n",
              "    <tr>\n",
              "      <th>62</th>\n",
              "      <td>03/24/2020</td>\n",
              "      <td>417966</td>\n",
              "      <td>18615</td>\n",
              "      <td>107705</td>\n",
              "      <td>291646</td>\n",
              "    </tr>\n",
              "    <tr>\n",
              "      <th>63</th>\n",
              "      <td>03/25/2020</td>\n",
              "      <td>467594</td>\n",
              "      <td>21181</td>\n",
              "      <td>113770</td>\n",
              "      <td>332643</td>\n",
              "    </tr>\n",
              "    <tr>\n",
              "      <th>64</th>\n",
              "      <td>03/26/2020</td>\n",
              "      <td>529591</td>\n",
              "      <td>23970</td>\n",
              "      <td>122150</td>\n",
              "      <td>383471</td>\n",
              "    </tr>\n",
              "    <tr>\n",
              "      <th>65</th>\n",
              "      <td>03/27/2020</td>\n",
              "      <td>593291</td>\n",
              "      <td>27198</td>\n",
              "      <td>130915</td>\n",
              "      <td>435178</td>\n",
              "    </tr>\n",
              "    <tr>\n",
              "      <th>66</th>\n",
              "      <td>03/28/2020</td>\n",
              "      <td>660706</td>\n",
              "      <td>30652</td>\n",
              "      <td>139415</td>\n",
              "      <td>490639</td>\n",
              "    </tr>\n",
              "  </tbody>\n",
              "</table>\n",
              "</div>"
            ],
            "text/plain": [
              "   ObservationDate  Confirmed  Deaths  Recovered  Active\n",
              "62      03/24/2020     417966   18615     107705  291646\n",
              "63      03/25/2020     467594   21181     113770  332643\n",
              "64      03/26/2020     529591   23970     122150  383471\n",
              "65      03/27/2020     593291   27198     130915  435178\n",
              "66      03/28/2020     660706   30652     139415  490639"
            ]
          },
          "metadata": {
            "tags": []
          },
          "execution_count": 26
        }
      ]
    },
    {
      "cell_type": "code",
      "metadata": {
        "id": "JwR-GdAFtJ4a",
        "colab_type": "code",
        "colab": {}
      },
      "source": [
        "cases_nc=data_per_day_nc.reset_index()"
      ],
      "execution_count": 0,
      "outputs": []
    },
    {
      "cell_type": "code",
      "metadata": {
        "id": "kpdUFrki7G8V",
        "colab_type": "code",
        "colab": {}
      },
      "source": [
        "confirmed_cases=cases_nc[['ObservationDate','Confirmed']]\n",
        "recovered_cases=cases_nc[['ObservationDate','Recovered']]\n",
        "death_cases=cases_nc[['ObservationDate','Deaths']]\n",
        "active_cases=cases_nc[['ObservationDate','Active']]"
      ],
      "execution_count": 0,
      "outputs": []
    },
    {
      "cell_type": "markdown",
      "metadata": {
        "id": "mtPZQoklMTVh",
        "colab_type": "text"
      },
      "source": [
        "**ANALYSIS OF CONFIRMED CASES**\n"
      ]
    },
    {
      "cell_type": "code",
      "metadata": {
        "id": "EyrtuFy1ETxv",
        "colab_type": "code",
        "outputId": "f737c2d2-059e-47d2-e362-561ffdaca9ee",
        "colab": {
          "base_uri": "https://localhost:8080/",
          "height": 131
        }
      },
      "source": [
        "confirmed_cases.rename(columns={'ObservationDate':'ds','Confirmed':'y'},inplace=True)"
      ],
      "execution_count": 29,
      "outputs": [
        {
          "output_type": "stream",
          "text": [
            "/usr/local/lib/python3.6/dist-packages/pandas/core/frame.py:4238: SettingWithCopyWarning:\n",
            "\n",
            "\n",
            "A value is trying to be set on a copy of a slice from a DataFrame\n",
            "\n",
            "See the caveats in the documentation: http://pandas.pydata.org/pandas-docs/stable/user_guide/indexing.html#returning-a-view-versus-a-copy\n",
            "\n"
          ],
          "name": "stderr"
        }
      ]
    },
    {
      "cell_type": "code",
      "metadata": {
        "id": "qX7FsMHF-meC",
        "colab_type": "code",
        "outputId": "e130648e-6beb-4a0f-eebb-dc11cf6f855b",
        "colab": {
          "base_uri": "https://localhost:8080/",
          "height": 191
        }
      },
      "source": [
        "confirmed_cases.tail()"
      ],
      "execution_count": 30,
      "outputs": [
        {
          "output_type": "execute_result",
          "data": {
            "text/html": [
              "<div>\n",
              "<style scoped>\n",
              "    .dataframe tbody tr th:only-of-type {\n",
              "        vertical-align: middle;\n",
              "    }\n",
              "\n",
              "    .dataframe tbody tr th {\n",
              "        vertical-align: top;\n",
              "    }\n",
              "\n",
              "    .dataframe thead th {\n",
              "        text-align: right;\n",
              "    }\n",
              "</style>\n",
              "<table border=\"1\" class=\"dataframe\">\n",
              "  <thead>\n",
              "    <tr style=\"text-align: right;\">\n",
              "      <th></th>\n",
              "      <th>ds</th>\n",
              "      <th>y</th>\n",
              "    </tr>\n",
              "  </thead>\n",
              "  <tbody>\n",
              "    <tr>\n",
              "      <th>62</th>\n",
              "      <td>03/24/2020</td>\n",
              "      <td>336786</td>\n",
              "    </tr>\n",
              "    <tr>\n",
              "      <th>63</th>\n",
              "      <td>03/25/2020</td>\n",
              "      <td>386373</td>\n",
              "    </tr>\n",
              "    <tr>\n",
              "      <th>64</th>\n",
              "      <td>03/26/2020</td>\n",
              "      <td>448293</td>\n",
              "    </tr>\n",
              "    <tr>\n",
              "      <th>65</th>\n",
              "      <td>03/27/2020</td>\n",
              "      <td>511946</td>\n",
              "    </tr>\n",
              "    <tr>\n",
              "      <th>66</th>\n",
              "      <td>03/28/2020</td>\n",
              "      <td>579305</td>\n",
              "    </tr>\n",
              "  </tbody>\n",
              "</table>\n",
              "</div>"
            ],
            "text/plain": [
              "            ds       y\n",
              "62  03/24/2020  336786\n",
              "63  03/25/2020  386373\n",
              "64  03/26/2020  448293\n",
              "65  03/27/2020  511946\n",
              "66  03/28/2020  579305"
            ]
          },
          "metadata": {
            "tags": []
          },
          "execution_count": 30
        }
      ]
    },
    {
      "cell_type": "code",
      "metadata": {
        "id": "OscMaeBW7HIk",
        "colab_type": "code",
        "outputId": "4229ab5e-df88-4c7a-9932-1788211a5dc7",
        "colab": {
          "base_uri": "https://localhost:8080/",
          "height": 66
        }
      },
      "source": [
        "#Fit Model\n",
        "p.fit(confirmed_cases)"
      ],
      "execution_count": 31,
      "outputs": [
        {
          "output_type": "stream",
          "text": [
            "INFO:fbprophet:Disabling yearly seasonality. Run prophet with yearly_seasonality=True to override this.\n",
            "INFO:fbprophet:Disabling daily seasonality. Run prophet with daily_seasonality=True to override this.\n"
          ],
          "name": "stderr"
        },
        {
          "output_type": "execute_result",
          "data": {
            "text/plain": [
              "<fbprophet.forecaster.Prophet at 0x7f010d97ebe0>"
            ]
          },
          "metadata": {
            "tags": []
          },
          "execution_count": 31
        }
      ]
    },
    {
      "cell_type": "code",
      "metadata": {
        "id": "BE91sXWL7HKY",
        "colab_type": "code",
        "outputId": "9c439b0c-99be-4f85-e3d0-13ca9d326345",
        "colab": {
          "base_uri": "https://localhost:8080/",
          "height": 391
        }
      },
      "source": [
        "#Future Dates\n",
        "future_dates=p.make_future_dataframe(periods=30)\n",
        "future_dates"
      ],
      "execution_count": 32,
      "outputs": [
        {
          "output_type": "execute_result",
          "data": {
            "text/html": [
              "<div>\n",
              "<style scoped>\n",
              "    .dataframe tbody tr th:only-of-type {\n",
              "        vertical-align: middle;\n",
              "    }\n",
              "\n",
              "    .dataframe tbody tr th {\n",
              "        vertical-align: top;\n",
              "    }\n",
              "\n",
              "    .dataframe thead th {\n",
              "        text-align: right;\n",
              "    }\n",
              "</style>\n",
              "<table border=\"1\" class=\"dataframe\">\n",
              "  <thead>\n",
              "    <tr style=\"text-align: right;\">\n",
              "      <th></th>\n",
              "      <th>ds</th>\n",
              "    </tr>\n",
              "  </thead>\n",
              "  <tbody>\n",
              "    <tr>\n",
              "      <th>0</th>\n",
              "      <td>2020-01-22</td>\n",
              "    </tr>\n",
              "    <tr>\n",
              "      <th>1</th>\n",
              "      <td>2020-01-23</td>\n",
              "    </tr>\n",
              "    <tr>\n",
              "      <th>2</th>\n",
              "      <td>2020-01-24</td>\n",
              "    </tr>\n",
              "    <tr>\n",
              "      <th>3</th>\n",
              "      <td>2020-01-25</td>\n",
              "    </tr>\n",
              "    <tr>\n",
              "      <th>4</th>\n",
              "      <td>2020-01-26</td>\n",
              "    </tr>\n",
              "    <tr>\n",
              "      <th>...</th>\n",
              "      <td>...</td>\n",
              "    </tr>\n",
              "    <tr>\n",
              "      <th>92</th>\n",
              "      <td>2020-04-23</td>\n",
              "    </tr>\n",
              "    <tr>\n",
              "      <th>93</th>\n",
              "      <td>2020-04-24</td>\n",
              "    </tr>\n",
              "    <tr>\n",
              "      <th>94</th>\n",
              "      <td>2020-04-25</td>\n",
              "    </tr>\n",
              "    <tr>\n",
              "      <th>95</th>\n",
              "      <td>2020-04-26</td>\n",
              "    </tr>\n",
              "    <tr>\n",
              "      <th>96</th>\n",
              "      <td>2020-04-27</td>\n",
              "    </tr>\n",
              "  </tbody>\n",
              "</table>\n",
              "<p>97 rows × 1 columns</p>\n",
              "</div>"
            ],
            "text/plain": [
              "           ds\n",
              "0  2020-01-22\n",
              "1  2020-01-23\n",
              "2  2020-01-24\n",
              "3  2020-01-25\n",
              "4  2020-01-26\n",
              "..        ...\n",
              "92 2020-04-23\n",
              "93 2020-04-24\n",
              "94 2020-04-25\n",
              "95 2020-04-26\n",
              "96 2020-04-27\n",
              "\n",
              "[97 rows x 1 columns]"
            ]
          },
          "metadata": {
            "tags": []
          },
          "execution_count": 32
        }
      ]
    },
    {
      "cell_type": "code",
      "metadata": {
        "id": "R-f9KGWx7HHZ",
        "colab_type": "code",
        "colab": {}
      },
      "source": [
        "#Prediction\n",
        "prediction=p.predict(future_dates)"
      ],
      "execution_count": 0,
      "outputs": []
    },
    {
      "cell_type": "code",
      "metadata": {
        "id": "HfsoO4Ie7HFY",
        "colab_type": "code",
        "outputId": "1562a4d3-5479-48ea-dca8-63e2fbd434c8",
        "colab": {
          "base_uri": "https://localhost:8080/",
          "height": 620
        }
      },
      "source": [
        "#Plot Prediction\n",
        "p.plot(prediction,figsize=(20,8))\n",
        "plt.xlabel('Dates',size=20)\n",
        "plt.ylabel('Number of Confirmed cases',size=20)\n",
        "plt.title('Predicted Number of Confirmed Cases',size=20)"
      ],
      "execution_count": 63,
      "outputs": [
        {
          "output_type": "execute_result",
          "data": {
            "text/plain": [
              "Text(0.5, 1.0, 'Predicted Number of Confirmed Cases')"
            ]
          },
          "metadata": {
            "tags": []
          },
          "execution_count": 63
        },
        {
          "output_type": "display_data",
          "data": {
            "image/png": "[encoded data removed]",
            "text/plain": [
              "<Figure size 1440x576 with 1 Axes>"
            ]
          },
          "metadata": {
            "tags": []
          }
        }
      ]
    },
    {
      "cell_type": "code",
      "metadata": {
        "id": "EKUBTd6cHbL-",
        "colab_type": "code",
        "outputId": "38c145bb-dde4-44df-fd0a-78b04949ddf6",
        "colab": {
          "base_uri": "https://localhost:8080/",
          "height": 1000
        }
      },
      "source": [
        "p.plot_components(prediction)"
      ],
      "execution_count": 35,
      "outputs": [
        {
          "output_type": "execute_result",
          "data": {
            "image/png": "[encoded data removed]",
            "text/plain": [
              "<Figure size 648x648 with 3 Axes>"
            ]
          },
          "metadata": {
            "tags": []
          },
          "execution_count": 35
        },
        {
          "output_type": "display_data",
          "data": {
            "image/png": "[encoded data removed]",
            "text/plain": [
              "<Figure size 648x648 with 3 Axes>"
            ]
          },
          "metadata": {
            "tags": []
          }
        }
      ]
    },
    {
      "cell_type": "code",
      "metadata": {
        "id": "ZD6l5Ux5JBPi",
        "colab_type": "code",
        "outputId": "74fbb2a0-d1f4-424f-de07-9113cb469f35",
        "colab": {
          "base_uri": "https://localhost:8080/",
          "height": 441
        }
      },
      "source": [
        "#Find Points/Dates for change\n",
        "from fbprophet.plot import add_changepoints_to_plot\n",
        "fig=p.plot(prediction)\n",
        "c=add_changepoints_to_plot(fig.gca(),p,prediction)"
      ],
      "execution_count": 36,
      "outputs": [
        {
          "output_type": "display_data",
          "data": {
            "image/png": "[encoded data removed]",
            "text/plain": [
              "<Figure size 720x432 with 1 Axes>"
            ]
          },
          "metadata": {
            "tags": []
          }
        }
      ]
    },
    {
      "cell_type": "code",
      "metadata": {
        "id": "rpaZ5OClJBOX",
        "colab_type": "code",
        "outputId": "906cf17a-76ab-4ce4-f969-63175d9d20c1",
        "colab": {
          "base_uri": "https://localhost:8080/",
          "height": 593
        }
      },
      "source": [
        "prediction.tail().T"
      ],
      "execution_count": 37,
      "outputs": [
        {
          "output_type": "execute_result",
          "data": {
            "text/html": [
              "<div>\n",
              "<style scoped>\n",
              "    .dataframe tbody tr th:only-of-type {\n",
              "        vertical-align: middle;\n",
              "    }\n",
              "\n",
              "    .dataframe tbody tr th {\n",
              "        vertical-align: top;\n",
              "    }\n",
              "\n",
              "    .dataframe thead th {\n",
              "        text-align: right;\n",
              "    }\n",
              "</style>\n",
              "<table border=\"1\" class=\"dataframe\">\n",
              "  <thead>\n",
              "    <tr style=\"text-align: right;\">\n",
              "      <th></th>\n",
              "      <th>92</th>\n",
              "      <th>93</th>\n",
              "      <th>94</th>\n",
              "      <th>95</th>\n",
              "      <th>96</th>\n",
              "    </tr>\n",
              "  </thead>\n",
              "  <tbody>\n",
              "    <tr>\n",
              "      <th>ds</th>\n",
              "      <td>2020-04-23 00:00:00</td>\n",
              "      <td>2020-04-24 00:00:00</td>\n",
              "      <td>2020-04-25 00:00:00</td>\n",
              "      <td>2020-04-26 00:00:00</td>\n",
              "      <td>2020-04-27 00:00:00</td>\n",
              "    </tr>\n",
              "    <tr>\n",
              "      <th>trend</th>\n",
              "      <td>1.05328e+06</td>\n",
              "      <td>1.07697e+06</td>\n",
              "      <td>1.10067e+06</td>\n",
              "      <td>1.12437e+06</td>\n",
              "      <td>1.14806e+06</td>\n",
              "    </tr>\n",
              "    <tr>\n",
              "      <th>yhat_lower</th>\n",
              "      <td>968394</td>\n",
              "      <td>1.00038e+06</td>\n",
              "      <td>1.03646e+06</td>\n",
              "      <td>1.05401e+06</td>\n",
              "      <td>1.07897e+06</td>\n",
              "    </tr>\n",
              "    <tr>\n",
              "      <th>yhat_upper</th>\n",
              "      <td>1.13039e+06</td>\n",
              "      <td>1.17672e+06</td>\n",
              "      <td>1.22467e+06</td>\n",
              "      <td>1.24879e+06</td>\n",
              "      <td>1.27651e+06</td>\n",
              "    </tr>\n",
              "    <tr>\n",
              "      <th>trend_lower</th>\n",
              "      <td>972441</td>\n",
              "      <td>991535</td>\n",
              "      <td>1.01074e+06</td>\n",
              "      <td>1.0301e+06</td>\n",
              "      <td>1.04924e+06</td>\n",
              "    </tr>\n",
              "    <tr>\n",
              "      <th>trend_upper</th>\n",
              "      <td>1.12897e+06</td>\n",
              "      <td>1.15752e+06</td>\n",
              "      <td>1.18639e+06</td>\n",
              "      <td>1.21538e+06</td>\n",
              "      <td>1.244e+06</td>\n",
              "    </tr>\n",
              "    <tr>\n",
              "      <th>additive_terms</th>\n",
              "      <td>-3051.64</td>\n",
              "      <td>12090.1</td>\n",
              "      <td>29408.9</td>\n",
              "      <td>27747.4</td>\n",
              "      <td>30585.5</td>\n",
              "    </tr>\n",
              "    <tr>\n",
              "      <th>additive_terms_lower</th>\n",
              "      <td>-3051.64</td>\n",
              "      <td>12090.1</td>\n",
              "      <td>29408.9</td>\n",
              "      <td>27747.4</td>\n",
              "      <td>30585.5</td>\n",
              "    </tr>\n",
              "    <tr>\n",
              "      <th>additive_terms_upper</th>\n",
              "      <td>-3051.64</td>\n",
              "      <td>12090.1</td>\n",
              "      <td>29408.9</td>\n",
              "      <td>27747.4</td>\n",
              "      <td>30585.5</td>\n",
              "    </tr>\n",
              "    <tr>\n",
              "      <th>monthly</th>\n",
              "      <td>-5196.4</td>\n",
              "      <td>6618.52</td>\n",
              "      <td>21127</td>\n",
              "      <td>33174.8</td>\n",
              "      <td>36428.3</td>\n",
              "    </tr>\n",
              "    <tr>\n",
              "      <th>monthly_lower</th>\n",
              "      <td>-5196.4</td>\n",
              "      <td>6618.52</td>\n",
              "      <td>21127</td>\n",
              "      <td>33174.8</td>\n",
              "      <td>36428.3</td>\n",
              "    </tr>\n",
              "    <tr>\n",
              "      <th>monthly_upper</th>\n",
              "      <td>-5196.4</td>\n",
              "      <td>6618.52</td>\n",
              "      <td>21127</td>\n",
              "      <td>33174.8</td>\n",
              "      <td>36428.3</td>\n",
              "    </tr>\n",
              "    <tr>\n",
              "      <th>weekly</th>\n",
              "      <td>2144.77</td>\n",
              "      <td>5471.55</td>\n",
              "      <td>8281.89</td>\n",
              "      <td>-5427.46</td>\n",
              "      <td>-5842.81</td>\n",
              "    </tr>\n",
              "    <tr>\n",
              "      <th>weekly_lower</th>\n",
              "      <td>2144.77</td>\n",
              "      <td>5471.55</td>\n",
              "      <td>8281.89</td>\n",
              "      <td>-5427.46</td>\n",
              "      <td>-5842.81</td>\n",
              "    </tr>\n",
              "    <tr>\n",
              "      <th>weekly_upper</th>\n",
              "      <td>2144.77</td>\n",
              "      <td>5471.55</td>\n",
              "      <td>8281.89</td>\n",
              "      <td>-5427.46</td>\n",
              "      <td>-5842.81</td>\n",
              "    </tr>\n",
              "    <tr>\n",
              "      <th>multiplicative_terms</th>\n",
              "      <td>0</td>\n",
              "      <td>0</td>\n",
              "      <td>0</td>\n",
              "      <td>0</td>\n",
              "      <td>0</td>\n",
              "    </tr>\n",
              "    <tr>\n",
              "      <th>multiplicative_terms_lower</th>\n",
              "      <td>0</td>\n",
              "      <td>0</td>\n",
              "      <td>0</td>\n",
              "      <td>0</td>\n",
              "      <td>0</td>\n",
              "    </tr>\n",
              "    <tr>\n",
              "      <th>multiplicative_terms_upper</th>\n",
              "      <td>0</td>\n",
              "      <td>0</td>\n",
              "      <td>0</td>\n",
              "      <td>0</td>\n",
              "      <td>0</td>\n",
              "    </tr>\n",
              "    <tr>\n",
              "      <th>yhat</th>\n",
              "      <td>1.05023e+06</td>\n",
              "      <td>1.08906e+06</td>\n",
              "      <td>1.13008e+06</td>\n",
              "      <td>1.15211e+06</td>\n",
              "      <td>1.17865e+06</td>\n",
              "    </tr>\n",
              "  </tbody>\n",
              "</table>\n",
              "</div>"
            ],
            "text/plain": [
              "                                             92  ...                   96\n",
              "ds                          2020-04-23 00:00:00  ...  2020-04-27 00:00:00\n",
              "trend                               1.05328e+06  ...          1.14806e+06\n",
              "yhat_lower                               968394  ...          1.07897e+06\n",
              "yhat_upper                          1.13039e+06  ...          1.27651e+06\n",
              "trend_lower                              972441  ...          1.04924e+06\n",
              "trend_upper                         1.12897e+06  ...            1.244e+06\n",
              "additive_terms                         -3051.64  ...              30585.5\n",
              "additive_terms_lower                   -3051.64  ...              30585.5\n",
              "additive_terms_upper                   -3051.64  ...              30585.5\n",
              "monthly                                 -5196.4  ...              36428.3\n",
              "monthly_lower                           -5196.4  ...              36428.3\n",
              "monthly_upper                           -5196.4  ...              36428.3\n",
              "weekly                                  2144.77  ...             -5842.81\n",
              "weekly_lower                            2144.77  ...             -5842.81\n",
              "weekly_upper                            2144.77  ...             -5842.81\n",
              "multiplicative_terms                          0  ...                    0\n",
              "multiplicative_terms_lower                    0  ...                    0\n",
              "multiplicative_terms_upper                    0  ...                    0\n",
              "yhat                                1.05023e+06  ...          1.17865e+06\n",
              "\n",
              "[19 rows x 5 columns]"
            ]
          },
          "metadata": {
            "tags": []
          },
          "execution_count": 37
        }
      ]
    },
    {
      "cell_type": "code",
      "metadata": {
        "id": "yHBw_Wl48RfF",
        "colab_type": "code",
        "outputId": "f3da12f6-d4b8-4602-8cf0-3de74da46c98",
        "colab": {
          "base_uri": "https://localhost:8080/",
          "height": 191
        }
      },
      "source": [
        "prediction[['ds', 'yhat', 'yhat_lower', 'yhat_upper']].tail()"
      ],
      "execution_count": 38,
      "outputs": [
        {
          "output_type": "execute_result",
          "data": {
            "text/html": [
              "<div>\n",
              "<style scoped>\n",
              "    .dataframe tbody tr th:only-of-type {\n",
              "        vertical-align: middle;\n",
              "    }\n",
              "\n",
              "    .dataframe tbody tr th {\n",
              "        vertical-align: top;\n",
              "    }\n",
              "\n",
              "    .dataframe thead th {\n",
              "        text-align: right;\n",
              "    }\n",
              "</style>\n",
              "<table border=\"1\" class=\"dataframe\">\n",
              "  <thead>\n",
              "    <tr style=\"text-align: right;\">\n",
              "      <th></th>\n",
              "      <th>ds</th>\n",
              "      <th>yhat</th>\n",
              "      <th>yhat_lower</th>\n",
              "      <th>yhat_upper</th>\n",
              "    </tr>\n",
              "  </thead>\n",
              "  <tbody>\n",
              "    <tr>\n",
              "      <th>92</th>\n",
              "      <td>2020-04-23</td>\n",
              "      <td>1.050226e+06</td>\n",
              "      <td>9.683939e+05</td>\n",
              "      <td>1.130392e+06</td>\n",
              "    </tr>\n",
              "    <tr>\n",
              "      <th>93</th>\n",
              "      <td>2020-04-24</td>\n",
              "      <td>1.089064e+06</td>\n",
              "      <td>1.000384e+06</td>\n",
              "      <td>1.176724e+06</td>\n",
              "    </tr>\n",
              "    <tr>\n",
              "      <th>94</th>\n",
              "      <td>2020-04-25</td>\n",
              "      <td>1.130080e+06</td>\n",
              "      <td>1.036463e+06</td>\n",
              "      <td>1.224666e+06</td>\n",
              "    </tr>\n",
              "    <tr>\n",
              "      <th>95</th>\n",
              "      <td>2020-04-26</td>\n",
              "      <td>1.152115e+06</td>\n",
              "      <td>1.054007e+06</td>\n",
              "      <td>1.248792e+06</td>\n",
              "    </tr>\n",
              "    <tr>\n",
              "      <th>96</th>\n",
              "      <td>2020-04-27</td>\n",
              "      <td>1.178650e+06</td>\n",
              "      <td>1.078974e+06</td>\n",
              "      <td>1.276508e+06</td>\n",
              "    </tr>\n",
              "  </tbody>\n",
              "</table>\n",
              "</div>"
            ],
            "text/plain": [
              "           ds          yhat    yhat_lower    yhat_upper\n",
              "92 2020-04-23  1.050226e+06  9.683939e+05  1.130392e+06\n",
              "93 2020-04-24  1.089064e+06  1.000384e+06  1.176724e+06\n",
              "94 2020-04-25  1.130080e+06  1.036463e+06  1.224666e+06\n",
              "95 2020-04-26  1.152115e+06  1.054007e+06  1.248792e+06\n",
              "96 2020-04-27  1.178650e+06  1.078974e+06  1.276508e+06"
            ]
          },
          "metadata": {
            "tags": []
          },
          "execution_count": 38
        }
      ]
    },
    {
      "cell_type": "code",
      "metadata": {
        "id": "VEonTamd8RiG",
        "colab_type": "code",
        "outputId": "4127b875-3004-4f3d-a38e-db57c024b040",
        "colab": {
          "base_uri": "https://localhost:8080/",
          "height": 33
        }
      },
      "source": [
        "print('Prediction of Confirmed cases for',prediction['ds'][95],'is ',round(prediction['yhat'][95]))"
      ],
      "execution_count": 39,
      "outputs": [
        {
          "output_type": "stream",
          "text": [
            "Prediction of Confirmed cases for 2020-04-26 00:00:00 is  1152115.0\n"
          ],
          "name": "stdout"
        }
      ]
    },
    {
      "cell_type": "code",
      "metadata": {
        "id": "GwBR5tIfqiQD",
        "colab_type": "code",
        "outputId": "74b3ba4d-906d-4a79-cc79-923dd1e4202d",
        "colab": {
          "base_uri": "https://localhost:8080/",
          "height": 33
        }
      },
      "source": [
        "k=len(prediction)\n",
        "k"
      ],
      "execution_count": 40,
      "outputs": [
        {
          "output_type": "execute_result",
          "data": {
            "text/plain": [
              "97"
            ]
          },
          "metadata": {
            "tags": []
          },
          "execution_count": 40
        }
      ]
    },
    {
      "cell_type": "code",
      "metadata": {
        "id": "aLeg2V1_MfuE",
        "colab_type": "code",
        "outputId": "0a48fd37-620b-4137-8ed2-8d1c27c6dccc",
        "colab": {
          "base_uri": "https://localhost:8080/",
          "height": 488
        }
      },
      "source": [
        "for i in range(68,k) :\n",
        "  print('Prediction of Confirmed cases for',prediction['ds'][i],'is ',round(prediction['yhat'][i].astype(int))+china_cases)"
      ],
      "execution_count": 41,
      "outputs": [
        {
          "output_type": "stream",
          "text": [
            "Prediction of Confirmed cases for 2020-03-30 00:00:00 is  567370\n",
            "Prediction of Confirmed cases for 2020-03-31 00:00:00 is  584111\n",
            "Prediction of Confirmed cases for 2020-04-01 00:00:00 is  613051\n",
            "Prediction of Confirmed cases for 2020-04-02 00:00:00 is  646002\n",
            "Prediction of Confirmed cases for 2020-04-03 00:00:00 is  678545\n",
            "Prediction of Confirmed cases for 2020-04-04 00:00:00 is  704868\n",
            "Prediction of Confirmed cases for 2020-04-05 00:00:00 is  710708\n",
            "Prediction of Confirmed cases for 2020-04-06 00:00:00 is  731359\n",
            "Prediction of Confirmed cases for 2020-04-07 00:00:00 is  759042\n",
            "Prediction of Confirmed cases for 2020-04-08 00:00:00 is  792828\n",
            "Prediction of Confirmed cases for 2020-04-09 00:00:00 is  822569\n",
            "Prediction of Confirmed cases for 2020-04-10 00:00:00 is  846468\n",
            "Prediction of Confirmed cases for 2020-04-11 00:00:00 is  863482\n",
            "Prediction of Confirmed cases for 2020-04-12 00:00:00 is  862245\n",
            "Prediction of Confirmed cases for 2020-04-13 00:00:00 is  877218\n",
            "Prediction of Confirmed cases for 2020-04-14 00:00:00 is  898026\n",
            "Prediction of Confirmed cases for 2020-04-15 00:00:00 is  923154\n",
            "Prediction of Confirmed cases for 2020-04-16 00:00:00 is  945609\n",
            "Prediction of Confirmed cases for 2020-04-17 00:00:00 is  968297\n",
            "Prediction of Confirmed cases for 2020-04-18 00:00:00 is  992282\n",
            "Prediction of Confirmed cases for 2020-04-19 00:00:00 is  1003646\n",
            "Prediction of Confirmed cases for 2020-04-20 00:00:00 is  1031755\n",
            "Prediction of Confirmed cases for 2020-04-21 00:00:00 is  1063070\n",
            "Prediction of Confirmed cases for 2020-04-22 00:00:00 is  1097390\n",
            "Prediction of Confirmed cases for 2020-04-23 00:00:00 is  1131626\n",
            "Prediction of Confirmed cases for 2020-04-24 00:00:00 is  1170465\n",
            "Prediction of Confirmed cases for 2020-04-25 00:00:00 is  1211480\n",
            "Prediction of Confirmed cases for 2020-04-26 00:00:00 is  1233515\n",
            "Prediction of Confirmed cases for 2020-04-27 00:00:00 is  1260050\n"
          ],
          "name": "stdout"
        }
      ]
    },
    {
      "cell_type": "code",
      "metadata": {
        "id": "gPERNHb4s-dU",
        "colab_type": "code",
        "outputId": "c44b5fdd-60cc-4007-87b4-19059bd62eba",
        "colab": {
          "base_uri": "https://localhost:8080/",
          "height": 33
        }
      },
      "source": [
        "print('Prediction of Confirmed cases for',prediction['ds'][65],'is ',round(prediction['yhat'][65].astype(int))+china_cases)"
      ],
      "execution_count": 42,
      "outputs": [
        {
          "output_type": "stream",
          "text": [
            "Prediction of Confirmed cases for 2020-03-27 00:00:00 is  536536\n"
          ],
          "name": "stdout"
        }
      ]
    },
    {
      "cell_type": "code",
      "metadata": {
        "id": "hOsYKgZchZAO",
        "colab_type": "code",
        "outputId": "7cea8906-1f45-4c5d-eef9-89fb42d4a13b",
        "colab": {
          "base_uri": "https://localhost:8080/",
          "height": 938
        }
      },
      "source": [
        "ab=prediction[prediction['ds']>=max(data['ObservationDate'])][['ds','yhat']].reset_index(drop=True)\n",
        "ab.rename(columns={'ds':'date','yhat':'confirmed_val'},inplace=True)\n",
        "ab"
      ],
      "execution_count": 43,
      "outputs": [
        {
          "output_type": "execute_result",
          "data": {
            "text/html": [
              "<div>\n",
              "<style scoped>\n",
              "    .dataframe tbody tr th:only-of-type {\n",
              "        vertical-align: middle;\n",
              "    }\n",
              "\n",
              "    .dataframe tbody tr th {\n",
              "        vertical-align: top;\n",
              "    }\n",
              "\n",
              "    .dataframe thead th {\n",
              "        text-align: right;\n",
              "    }\n",
              "</style>\n",
              "<table border=\"1\" class=\"dataframe\">\n",
              "  <thead>\n",
              "    <tr style=\"text-align: right;\">\n",
              "      <th></th>\n",
              "      <th>date</th>\n",
              "      <th>confirmed_val</th>\n",
              "    </tr>\n",
              "  </thead>\n",
              "  <tbody>\n",
              "    <tr>\n",
              "      <th>0</th>\n",
              "      <td>2020-03-28</td>\n",
              "      <td>4.792203e+05</td>\n",
              "    </tr>\n",
              "    <tr>\n",
              "      <th>1</th>\n",
              "      <td>2020-03-29</td>\n",
              "      <td>4.771427e+05</td>\n",
              "    </tr>\n",
              "    <tr>\n",
              "      <th>2</th>\n",
              "      <td>2020-03-30</td>\n",
              "      <td>4.859697e+05</td>\n",
              "    </tr>\n",
              "    <tr>\n",
              "      <th>3</th>\n",
              "      <td>2020-03-31</td>\n",
              "      <td>5.027110e+05</td>\n",
              "    </tr>\n",
              "    <tr>\n",
              "      <th>4</th>\n",
              "      <td>2020-04-01</td>\n",
              "      <td>5.316508e+05</td>\n",
              "    </tr>\n",
              "    <tr>\n",
              "      <th>5</th>\n",
              "      <td>2020-04-02</td>\n",
              "      <td>5.646014e+05</td>\n",
              "    </tr>\n",
              "    <tr>\n",
              "      <th>6</th>\n",
              "      <td>2020-04-03</td>\n",
              "      <td>5.971446e+05</td>\n",
              "    </tr>\n",
              "    <tr>\n",
              "      <th>7</th>\n",
              "      <td>2020-04-04</td>\n",
              "      <td>6.234679e+05</td>\n",
              "    </tr>\n",
              "    <tr>\n",
              "      <th>8</th>\n",
              "      <td>2020-04-05</td>\n",
              "      <td>6.293077e+05</td>\n",
              "    </tr>\n",
              "    <tr>\n",
              "      <th>9</th>\n",
              "      <td>2020-04-06</td>\n",
              "      <td>6.499583e+05</td>\n",
              "    </tr>\n",
              "    <tr>\n",
              "      <th>10</th>\n",
              "      <td>2020-04-07</td>\n",
              "      <td>6.776419e+05</td>\n",
              "    </tr>\n",
              "    <tr>\n",
              "      <th>11</th>\n",
              "      <td>2020-04-08</td>\n",
              "      <td>7.114277e+05</td>\n",
              "    </tr>\n",
              "    <tr>\n",
              "      <th>12</th>\n",
              "      <td>2020-04-09</td>\n",
              "      <td>7.411687e+05</td>\n",
              "    </tr>\n",
              "    <tr>\n",
              "      <th>13</th>\n",
              "      <td>2020-04-10</td>\n",
              "      <td>7.650678e+05</td>\n",
              "    </tr>\n",
              "    <tr>\n",
              "      <th>14</th>\n",
              "      <td>2020-04-11</td>\n",
              "      <td>7.820811e+05</td>\n",
              "    </tr>\n",
              "    <tr>\n",
              "      <th>15</th>\n",
              "      <td>2020-04-12</td>\n",
              "      <td>7.808447e+05</td>\n",
              "    </tr>\n",
              "    <tr>\n",
              "      <th>16</th>\n",
              "      <td>2020-04-13</td>\n",
              "      <td>7.958171e+05</td>\n",
              "    </tr>\n",
              "    <tr>\n",
              "      <th>17</th>\n",
              "      <td>2020-04-14</td>\n",
              "      <td>8.166252e+05</td>\n",
              "    </tr>\n",
              "    <tr>\n",
              "      <th>18</th>\n",
              "      <td>2020-04-15</td>\n",
              "      <td>8.417530e+05</td>\n",
              "    </tr>\n",
              "    <tr>\n",
              "      <th>19</th>\n",
              "      <td>2020-04-16</td>\n",
              "      <td>8.642089e+05</td>\n",
              "    </tr>\n",
              "    <tr>\n",
              "      <th>20</th>\n",
              "      <td>2020-04-17</td>\n",
              "      <td>8.868963e+05</td>\n",
              "    </tr>\n",
              "    <tr>\n",
              "      <th>21</th>\n",
              "      <td>2020-04-18</td>\n",
              "      <td>9.108817e+05</td>\n",
              "    </tr>\n",
              "    <tr>\n",
              "      <th>22</th>\n",
              "      <td>2020-04-19</td>\n",
              "      <td>9.222452e+05</td>\n",
              "    </tr>\n",
              "    <tr>\n",
              "      <th>23</th>\n",
              "      <td>2020-04-20</td>\n",
              "      <td>9.503550e+05</td>\n",
              "    </tr>\n",
              "    <tr>\n",
              "      <th>24</th>\n",
              "      <td>2020-04-21</td>\n",
              "      <td>9.816700e+05</td>\n",
              "    </tr>\n",
              "    <tr>\n",
              "      <th>25</th>\n",
              "      <td>2020-04-22</td>\n",
              "      <td>1.015989e+06</td>\n",
              "    </tr>\n",
              "    <tr>\n",
              "      <th>26</th>\n",
              "      <td>2020-04-23</td>\n",
              "      <td>1.050226e+06</td>\n",
              "    </tr>\n",
              "    <tr>\n",
              "      <th>27</th>\n",
              "      <td>2020-04-24</td>\n",
              "      <td>1.089064e+06</td>\n",
              "    </tr>\n",
              "    <tr>\n",
              "      <th>28</th>\n",
              "      <td>2020-04-25</td>\n",
              "      <td>1.130080e+06</td>\n",
              "    </tr>\n",
              "    <tr>\n",
              "      <th>29</th>\n",
              "      <td>2020-04-26</td>\n",
              "      <td>1.152115e+06</td>\n",
              "    </tr>\n",
              "    <tr>\n",
              "      <th>30</th>\n",
              "      <td>2020-04-27</td>\n",
              "      <td>1.178650e+06</td>\n",
              "    </tr>\n",
              "  </tbody>\n",
              "</table>\n",
              "</div>"
            ],
            "text/plain": [
              "         date  confirmed_val\n",
              "0  2020-03-28   4.792203e+05\n",
              "1  2020-03-29   4.771427e+05\n",
              "2  2020-03-30   4.859697e+05\n",
              "3  2020-03-31   5.027110e+05\n",
              "4  2020-04-01   5.316508e+05\n",
              "5  2020-04-02   5.646014e+05\n",
              "6  2020-04-03   5.971446e+05\n",
              "7  2020-04-04   6.234679e+05\n",
              "8  2020-04-05   6.293077e+05\n",
              "9  2020-04-06   6.499583e+05\n",
              "10 2020-04-07   6.776419e+05\n",
              "11 2020-04-08   7.114277e+05\n",
              "12 2020-04-09   7.411687e+05\n",
              "13 2020-04-10   7.650678e+05\n",
              "14 2020-04-11   7.820811e+05\n",
              "15 2020-04-12   7.808447e+05\n",
              "16 2020-04-13   7.958171e+05\n",
              "17 2020-04-14   8.166252e+05\n",
              "18 2020-04-15   8.417530e+05\n",
              "19 2020-04-16   8.642089e+05\n",
              "20 2020-04-17   8.868963e+05\n",
              "21 2020-04-18   9.108817e+05\n",
              "22 2020-04-19   9.222452e+05\n",
              "23 2020-04-20   9.503550e+05\n",
              "24 2020-04-21   9.816700e+05\n",
              "25 2020-04-22   1.015989e+06\n",
              "26 2020-04-23   1.050226e+06\n",
              "27 2020-04-24   1.089064e+06\n",
              "28 2020-04-25   1.130080e+06\n",
              "29 2020-04-26   1.152115e+06\n",
              "30 2020-04-27   1.178650e+06"
            ]
          },
          "metadata": {
            "tags": []
          },
          "execution_count": 43
        }
      ]
    },
    {
      "cell_type": "code",
      "metadata": {
        "id": "ct5eqlwQjRei",
        "colab_type": "code",
        "colab": {}
      },
      "source": [
        "cd=pd.DataFrame(ab)\n",
        "cd.to_csv('/content/drive/My Drive/Colab Notebooks/Confirmed Data.csv',index=False)"
      ],
      "execution_count": 0,
      "outputs": []
    }
  ]
}